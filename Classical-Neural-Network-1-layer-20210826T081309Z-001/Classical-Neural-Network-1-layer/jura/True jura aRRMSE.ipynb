{
 "cells": [
  {
   "cell_type": "code",
   "execution_count": 8,
   "metadata": {},
   "outputs": [],
   "source": [
    "import pandas as pd\n",
    "import random\n",
    "import numpy as np\n",
    "from numpy import linalg as LA"
   ]
  },
  {
   "cell_type": "code",
   "execution_count": 9,
   "metadata": {},
   "outputs": [
    {
     "name": "stderr",
     "output_type": "stream",
     "text": [
      "/usr/local/misc/Python/Python-3.6.7/lib/python3.6/site-packages/ipykernel_launcher.py:7: FutureWarning: Method .as_matrix will be removed in a future version. Use .values instead.\n",
      "  import sys\n",
      "/usr/local/misc/Python/Python-3.6.7/lib/python3.6/site-packages/ipykernel_launcher.py:8: FutureWarning: Method .as_matrix will be removed in a future version. Use .values instead.\n",
      "  \n"
     ]
    }
   ],
   "source": [
    "##################################################################################### COPULE DATA ###################################################################################\n",
    "\n",
    "from scipy.io import arff\n",
    "data = arff.loadarff('jura.arff')\n",
    "df = pd.DataFrame(data[0])\n",
    "\n",
    "covariables = df.iloc[:,0:15].as_matrix()\n",
    "response = df.iloc[:,15:18].as_matrix()\n",
    "positions = np.arange(359)\n",
    "\n",
    "from sklearn.cross_validation import train_test_split\n",
    "\n",
    "spnnr_covariables_train, spnnr_covariables_test, spnnr_response_train, spnnr_response_test,spnnr_positions_train,spnnr_positions_test = train_test_split(covariables, response,positions, test_size=0.33, random_state=42)"
   ]
  },
  {
   "cell_type": "code",
   "execution_count": 10,
   "metadata": {},
   "outputs": [],
   "source": [
    "spnnr_Y_testpred =np.loadtxt('All_Y_test_predictions.out', delimiter=',' )\n",
    "spnnr_Y_trainpred =np.loadtxt('All_Y_train_predictions.out', delimiter=',' )"
   ]
  },
  {
   "cell_type": "code",
   "execution_count": 11,
   "metadata": {},
   "outputs": [
    {
     "name": "stdout",
     "output_type": "stream",
     "text": [
      "<*********************************Let us check the aRRMSE*********************************>\n",
      "Final i-th aRRMSE is : 21.288879\n",
      "<*********************************Let us check the aRRMSE*********************************>\n",
      "Final i-th aRRMSE is : 36.679856\n"
     ]
    }
   ],
   "source": [
    "spnnr_aRRMSE_list = []\n",
    "\n",
    "for i in [0,1] :\n",
    "    \n",
    "    spnnr_Errors_test =  spnnr_Y_testpred[:,i] - spnnr_response_test[:,i]\n",
    "    print('<*********************************Let us check the aRRMSE*********************************>')\n",
    "\n",
    "    spnnr_ytrain_mean_i = np.tile(spnnr_Y_trainpred[:,i].mean(axis = 0), (spnnr_covariables_test.shape[0], 1))\n",
    "\n",
    "    spnnr_Errors_relative = spnnr_ytrain_mean_i - spnnr_response_test[:,i]\n",
    "\n",
    "    spnnr_Final_SPNNR_aRRMSE = 100*np.sqrt((LA.norm(spnnr_Errors_test)**2)/(LA.norm(spnnr_Errors_relative)**2))  \n",
    "\n",
    "    print(\"Final i-th aRRMSE is : %f\"%spnnr_Final_SPNNR_aRRMSE)\n",
    "\n",
    "    spnnr_aRRMSE_list.append(spnnr_Final_SPNNR_aRRMSE)"
   ]
  },
  {
   "cell_type": "code",
   "execution_count": 12,
   "metadata": {},
   "outputs": [
    {
     "data": {
      "text/plain": [
       "28.98436766458106"
      ]
     },
     "execution_count": 12,
     "metadata": {},
     "output_type": "execute_result"
    }
   ],
   "source": [
    "np.mean(spnnr_aRRMSE_list)"
   ]
  },
  {
   "cell_type": "code",
   "execution_count": null,
   "metadata": {},
   "outputs": [],
   "source": []
  }
 ],
 "metadata": {
  "kernelspec": {
   "display_name": "Python 3",
   "language": "python",
   "name": "python3"
  },
  "language_info": {
   "codemirror_mode": {
    "name": "ipython",
    "version": 3
   },
   "file_extension": ".py",
   "mimetype": "text/x-python",
   "name": "python",
   "nbconvert_exporter": "python",
   "pygments_lexer": "ipython3",
   "version": "3.6.7"
  }
 },
 "nbformat": 4,
 "nbformat_minor": 2
}
